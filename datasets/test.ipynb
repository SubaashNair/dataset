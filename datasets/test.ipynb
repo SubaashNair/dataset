{
 "cells": [
  {
   "cell_type": "code",
   "execution_count": 1,
   "metadata": {},
   "outputs": [],
   "source": [
    "import pandas as pd"
   ]
  },
  {
   "cell_type": "code",
   "execution_count": 3,
   "metadata": {},
   "outputs": [],
   "source": [
    "df = pd.read_csv('hotel_bookings.csv')"
   ]
  },
  {
   "cell_type": "code",
   "execution_count": 4,
   "metadata": {},
   "outputs": [
    {
     "data": {
      "text/plain": [
       "Booking_ID                                 0\n",
       "no_of_adults                             413\n",
       "no_of_children                           324\n",
       "no_of_weekend_nights                     367\n",
       "no_of_week_nights                        807\n",
       "type_of_meal_plan                        526\n",
       "required_car_parking_space              2592\n",
       "room_type_reserved                      1171\n",
       "lead_time                                472\n",
       "arrival_year                             378\n",
       "arrival_month                            504\n",
       "arrival_date                             981\n",
       "market_segment_type                     1512\n",
       "repeated_guest                           586\n",
       "no_of_previous_cancellations             497\n",
       "no_of_previous_bookings_not_canceled     550\n",
       "avg_price_per_room                       460\n",
       "no_of_special_requests                   789\n",
       "booking_status                             0\n",
       "dtype: int64"
      ]
     },
     "execution_count": 4,
     "metadata": {},
     "output_type": "execute_result"
    }
   ],
   "source": [
    "df.isna().sum()"
   ]
  },
  {
   "cell_type": "code",
   "execution_count": null,
   "metadata": {},
   "outputs": [],
   "source": []
  }
 ],
 "metadata": {
  "kernelspec": {
   "display_name": "base",
   "language": "python",
   "name": "python3"
  },
  "language_info": {
   "codemirror_mode": {
    "name": "ipython",
    "version": 3
   },
   "file_extension": ".py",
   "mimetype": "text/x-python",
   "name": "python",
   "nbconvert_exporter": "python",
   "pygments_lexer": "ipython3",
   "version": "3.12.2"
  }
 },
 "nbformat": 4,
 "nbformat_minor": 2
}
